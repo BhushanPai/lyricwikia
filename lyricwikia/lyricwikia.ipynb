{
 "cells": [
  {
   "cell_type": "code",
   "execution_count": 1,
   "metadata": {},
   "outputs": [
    {
     "name": "stdout",
     "output_type": "stream",
     "text": [
      "Requirement already satisfied: pprint in /usr/local/lib/python3.7/site-packages (0.1)\r\n"
     ]
    }
   ],
   "source": [
    "!pip3 install pprint\n",
    "from pprint import pprint"
   ]
  },
  {
   "cell_type": "code",
   "execution_count": 2,
   "metadata": {
    "scrolled": true
   },
   "outputs": [
    {
     "name": "stdout",
     "output_type": "stream",
     "text": [
      "Requirement already satisfied: beautifulsoup4 in /usr/local/lib/python3.7/site-packages (4.9.0)\n",
      "Requirement already satisfied: soupsieve>1.2 in /usr/local/lib/python3.7/site-packages (from beautifulsoup4) (2.0)\n"
     ]
    }
   ],
   "source": [
    "!pip3 install beautifulsoup4"
   ]
  },
  {
   "cell_type": "code",
   "execution_count": 3,
   "metadata": {},
   "outputs": [
    {
     "name": "stdout",
     "output_type": "stream",
     "text": [
      "Requirement already up-to-date: pip in /usr/local/lib/python3.7/site-packages (20.1)\r\n"
     ]
    }
   ],
   "source": [
    "!pip3 install --upgrade pip"
   ]
  },
  {
   "cell_type": "code",
   "execution_count": 4,
   "metadata": {},
   "outputs": [
    {
     "name": "stdout",
     "output_type": "stream",
     "text": [
      "Requirement already satisfied: requests in /usr/local/lib/python3.7/site-packages (2.23.0)\r\n",
      "Requirement already satisfied: chardet<4,>=3.0.2 in /usr/local/lib/python3.7/site-packages (from requests) (3.0.4)\r\n",
      "Requirement already satisfied: certifi>=2017.4.17 in /Users/bhushanpai/Library/Python/3.7/lib/python/site-packages (from requests) (2019.11.28)\r\n",
      "Requirement already satisfied: urllib3!=1.25.0,!=1.25.1,<1.26,>=1.21.1 in /usr/local/lib/python3.7/site-packages (from requests) (1.25.9)\r\n",
      "Requirement already satisfied: idna<3,>=2.5 in /usr/local/lib/python3.7/site-packages (from requests) (2.9)\r\n"
     ]
    }
   ],
   "source": [
    "!pip3 install requests"
   ]
  },
  {
   "cell_type": "code",
   "execution_count": 5,
   "metadata": {},
   "outputs": [],
   "source": [
    "from six.moves.urllib.parse import quote as _quote\n",
    "from bs4 import BeautifulSoup as _BeautifulSoup\n",
    "import requests as _requests\n",
    "\n",
    "__BASE_URL__ = 'https://lyrics.wikia.com'"
   ]
  },
  {
   "cell_type": "code",
   "execution_count": 6,
   "metadata": {},
   "outputs": [],
   "source": [
    "class LyricsNotFound(Exception):\n",
    "    __module__ = Exception.__module__\n",
    "\n",
    "    def __init__(self, message=None):\n",
    "        super(LyricsNotFound, self).__init__(message)"
   ]
  },
  {
   "cell_type": "code",
   "execution_count": 7,
   "metadata": {},
   "outputs": [],
   "source": [
    "def urlize(string):\n",
    "    \"\"\"Convert string to LyricWikia format\"\"\"\n",
    "    return _quote('_'.join(string.title().split()))"
   ]
  },
  {
   "cell_type": "code",
   "execution_count": 8,
   "metadata": {},
   "outputs": [],
   "source": [
    "def create_url(artist, song, language):\n",
    "    \"\"\"Create the URL in the LyricWikia format\"\"\"\n",
    "    url = __BASE_URL__ + '/wiki/{artist}:{song}'.format(artist=urlize(artist), song=urlize(song))\n",
    "    if language:\n",
    "        url += '/{language}'.format(language=urlize(language).lower())\n",
    "    return url"
   ]
  },
  {
   "cell_type": "code",
   "execution_count": 21,
   "metadata": {},
   "outputs": [],
   "source": [
    "def get_lyrics_by_language(artist, song, language, linesep='\\n', timeout=None):\n",
    "    \"\"\"Retrieve the lyrics of the song in a particular language and return the first one in case\n",
    "    multiple versions are available.\"\"\"\n",
    "    return get_all_lyrics(artist, song, language, linesep, timeout)[0]"
   ]
  },
  {
   "cell_type": "code",
   "execution_count": 17,
   "metadata": {},
   "outputs": [],
   "source": [
    "def get_lyrics(artist, song, language='', linesep='\\n', timeout=None):\n",
    "    \"\"\"Retrieve the lyrics of the song and return the first one in case\n",
    "    multiple versions are available.\"\"\"\n",
    "    return get_all_lyrics(artist, song, language, linesep, timeout)[0]"
   ]
  },
  {
   "cell_type": "code",
   "execution_count": 18,
   "metadata": {},
   "outputs": [],
   "source": [
    "\n",
    "def get_all_lyrics(artist, song, language='', linesep=' \\n ', timeout=None):\n",
    "    \"\"\"Retrieve a list of all the lyrics versions of a song.\"\"\"\n",
    "    url = create_url(artist, song, language)\n",
    "    response = _requests.get(url, timeout=timeout)\n",
    "    soup = _BeautifulSoup(response.content, \"html.parser\")\n",
    "    lyricboxes = soup.findAll('div', {'class': 'lyricbox'})\n",
    "\n",
    "    if not lyricboxes:\n",
    "        raise LyricsNotFound('Cannot download lyrics')\n",
    "\n",
    "    for lyricbox in lyricboxes:\n",
    "        for br in lyricbox.findAll('br'):\n",
    "            br.replace_with(linesep)\n",
    "\n",
    "    return [lyricbox.text.strip() for lyricbox in lyricboxes]"
   ]
  },
  {
   "cell_type": "code",
   "execution_count": 11,
   "metadata": {},
   "outputs": [],
   "source": [
    "class Song(object):\n",
    "    \"\"\"A Song backed by the LyricWikia API\"\"\"\n",
    "\n",
    "    def __init__(self, artist, title):\n",
    "        self.artist = artist\n",
    "        self.title = title\n",
    "\n",
    "    @property\n",
    "    def lyrics(self):\n",
    "        \"\"\"Song lyrics obtained by parsing the LyricWikia page\"\"\"\n",
    "        return get_lyrics(self.artist, self.title,'')\n",
    "\n",
    "    def __str__(self):\n",
    "        return \"Song(artist='%s', title='%s')\" % (self.artist, self.title)\n",
    "\n",
    "    def __repr__(self):\n",
    "        return str(self)"
   ]
  },
  {
   "cell_type": "code",
   "execution_count": 12,
   "metadata": {},
   "outputs": [],
   "source": [
    "class Album(object):\n",
    "    \"\"\"An Album backed by the LyricWikia API\"\"\"\n",
    "\n",
    "    def __init__(self, artist, album_data):\n",
    "        self.artist = artist\n",
    "        self.title = album_data['album']\n",
    "        self.year = album_data['year']\n",
    "        self.songs = [Song(artist, song) for song in album_data['songs']]\n",
    "\n",
    "    def __str__(self):\n",
    "        return \"Album(artist='%s', title='%s')\" % (self.artist, self.title)\n",
    "\n",
    "    def __repr__(self):\n",
    "        return str(self)"
   ]
  },
  {
   "cell_type": "code",
   "execution_count": 13,
   "metadata": {},
   "outputs": [],
   "source": [
    "\n",
    "class Artist(object):\n",
    "    \"\"\"An Artist backed by the LyricWikia API\"\"\"\n",
    "\n",
    "    __API__ = __BASE_URL__ + '/api.php?fmt=json&func=getArtist&artist={artist}'\n",
    "\n",
    "    def __init__(self, name):\n",
    "        url = self.__API__.format(artist=urlize(name))\n",
    "        data = _requests.get(url).json()\n",
    "        self.name = data['artist']\n",
    "        self.albums = [Album(self.name, album) for album in data['albums']]\n",
    "\n",
    "    def __str__(self):\n",
    "        return \"Artist(name='%s')\" % (self.name)\n",
    "\n",
    "    def __repr__(self):\n",
    "        return str(self)"
   ]
  },
  {
   "cell_type": "code",
   "execution_count": 26,
   "metadata": {},
   "outputs": [],
   "source": [
    "lyrics = get_lyrics('one piece','Binks\\' Sake')"
   ]
  },
  {
   "cell_type": "code",
   "execution_count": 24,
   "metadata": {},
   "outputs": [
    {
     "name": "stdout",
     "output_type": "stream",
     "text": [
      "('Yohohoho, yohohoho\\n'\n",
      " 'Yohohoho, yohohoho\\n'\n",
      " 'Yohohoho, yohohoho\\n'\n",
      " 'Yohohoho, yohohoho\\n'\n",
      " '\\n'\n",
      " 'Binkusu no sake wo\\n'\n",
      " 'Todoke ni yuku yo\\n'\n",
      " 'Umikaze kimakase namimakase\\n'\n",
      " 'Shio no mukou de\\n'\n",
      " 'Yuuhi mo sawagu\\n'\n",
      " 'Sora nya wa wo kaku\\n'\n",
      " 'Tori no uta\\n'\n",
      " 'Sayonara minato\\n'\n",
      " 'Tsumugi no sato yo\\n'\n",
      " 'DON to icchou utao\\n'\n",
      " 'Funade no uta\\n'\n",
      " 'Kinpa-ginpa mo shibuki ni kaete\\n'\n",
      " 'Oretachya yuku zo\\n'\n",
      " 'Umi no kagiri\\n'\n",
      " '\\n'\n",
      " 'Binkusu no sake wo\\n'\n",
      " 'Todoke ni yuku yo\\n'\n",
      " 'Warera kaizoku\\n'\n",
      " 'Umi watteku\\n'\n",
      " 'Nami wo makura ni\\n'\n",
      " 'Negura wa fune yo\\n'\n",
      " 'Ho ni hata ni ketateru wa dokuro\\n'\n",
      " 'Arashi ga kita zo\\n'\n",
      " 'Senri no sora ni\\n'\n",
      " 'Nami ga odoru yo\\n'\n",
      " 'DORAMU narase\\n'\n",
      " 'Okubyoukaze ni fukakerya saigo\\n'\n",
      " 'Asu no asahi ga nai ja nashi\\n'\n",
      " '\\n'\n",
      " 'Yohohoho, yohohoho\\n'\n",
      " 'Yohohoho, yohohoho\\n'\n",
      " 'Yohohoho, yohohoho\\n'\n",
      " 'Yohohoho, yohohoho\\n'\n",
      " '\\n'\n",
      " 'Binkusu no sake wo\\n'\n",
      " 'Todoke ni yuku yo\\n'\n",
      " 'Kyou ka asu ka to yoi no yume\\n'\n",
      " 'Te wo furu kage ni\\n'\n",
      " 'Mou aenai yo\\n'\n",
      " 'Nani wo kuyokuyo\\n'\n",
      " 'Asu mo tsukuyo\\n'\n",
      " 'Binkusu no sake wo\\n'\n",
      " 'Todoke ni yuku yo\\n'\n",
      " 'DON to icchou utao\\n'\n",
      " 'Unaba no uta\\n'\n",
      " 'Douse dare demo itsuka wa hone yo\\n'\n",
      " 'Hatenashi, atenashi, waraibanashi\\n'\n",
      " '\\n'\n",
      " 'Yohohoho, yohohoho\\n'\n",
      " 'Yohohoho, yohohoho\\n'\n",
      " 'Yohohoho, yohohoho\\n'\n",
      " 'Yohohoho, yohohoho')\n"
     ]
    }
   ],
   "source": [
    "pprint (lyrics)"
   ]
  },
  {
   "cell_type": "code",
   "execution_count": null,
   "metadata": {},
   "outputs": [],
   "source": []
  }
 ],
 "metadata": {
  "kernelspec": {
   "display_name": "Python 3",
   "language": "python",
   "name": "python3"
  },
  "language_info": {
   "codemirror_mode": {
    "name": "ipython",
    "version": 3
   },
   "file_extension": ".py",
   "mimetype": "text/x-python",
   "name": "python",
   "nbconvert_exporter": "python",
   "pygments_lexer": "ipython3",
   "version": "3.7.7"
  }
 },
 "nbformat": 4,
 "nbformat_minor": 2
}
