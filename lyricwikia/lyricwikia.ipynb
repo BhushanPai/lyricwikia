{
 "cells": [
  {
   "cell_type": "code",
   "execution_count": 1,
   "metadata": {},
   "outputs": [
    {
     "name": "stdout",
     "output_type": "stream",
     "text": [
      "Requirement already satisfied: pprint in /usr/local/lib/python3.7/site-packages (0.1)\r\n"
     ]
    }
   ],
   "source": [
    "!pip3 install pprint\n",
    "from pprint import pprint"
   ]
  },
  {
   "cell_type": "code",
   "execution_count": 2,
   "metadata": {
    "scrolled": true
   },
   "outputs": [
    {
     "name": "stdout",
     "output_type": "stream",
     "text": [
      "Requirement already satisfied: beautifulsoup4 in /usr/local/lib/python3.7/site-packages (4.9.0)\n",
      "Requirement already satisfied: soupsieve>1.2 in /usr/local/lib/python3.7/site-packages (from beautifulsoup4) (2.0)\n"
     ]
    }
   ],
   "source": [
    "!pip3 install beautifulsoup4"
   ]
  },
  {
   "cell_type": "code",
   "execution_count": 3,
   "metadata": {},
   "outputs": [
    {
     "name": "stdout",
     "output_type": "stream",
     "text": [
      "Requirement already up-to-date: pip in /usr/local/lib/python3.7/site-packages (20.1)\r\n"
     ]
    }
   ],
   "source": [
    "!pip3 install --upgrade pip"
   ]
  },
  {
   "cell_type": "code",
   "execution_count": 4,
   "metadata": {},
   "outputs": [
    {
     "name": "stdout",
     "output_type": "stream",
     "text": [
      "Requirement already satisfied: requests in /usr/local/lib/python3.7/site-packages (2.23.0)\r\n",
      "Requirement already satisfied: chardet<4,>=3.0.2 in /usr/local/lib/python3.7/site-packages (from requests) (3.0.4)\r\n",
      "Requirement already satisfied: certifi>=2017.4.17 in /Users/bhushanpai/Library/Python/3.7/lib/python/site-packages (from requests) (2019.11.28)\r\n",
      "Requirement already satisfied: urllib3!=1.25.0,!=1.25.1,<1.26,>=1.21.1 in /usr/local/lib/python3.7/site-packages (from requests) (1.25.9)\r\n",
      "Requirement already satisfied: idna<3,>=2.5 in /usr/local/lib/python3.7/site-packages (from requests) (2.9)\r\n"
     ]
    }
   ],
   "source": [
    "!pip3 install requests"
   ]
  },
  {
   "cell_type": "code",
   "execution_count": 5,
   "metadata": {},
   "outputs": [],
   "source": [
    "from six.moves.urllib.parse import quote as _quote\n",
    "from bs4 import BeautifulSoup as _BeautifulSoup\n",
    "import requests as _requests\n",
    "\n",
    "__BASE_URL__ = 'https://lyrics.wikia.com'"
   ]
  },
  {
   "cell_type": "code",
   "execution_count": 6,
   "metadata": {},
   "outputs": [],
   "source": [
    "class LyricsNotFound(Exception):\n",
    "    __module__ = Exception.__module__\n",
    "\n",
    "    def __init__(self, message=None):\n",
    "        super(LyricsNotFound, self).__init__(message)"
   ]
  },
  {
   "cell_type": "code",
   "execution_count": 7,
   "metadata": {},
   "outputs": [],
   "source": [
    "def urlize(string):\n",
    "    \"\"\"Convert string to LyricWikia format\"\"\"\n",
    "    return _quote('_'.join(string.title().split()))"
   ]
  },
  {
   "cell_type": "code",
   "execution_count": 8,
   "metadata": {},
   "outputs": [],
   "source": [
    "def create_url(artist, song, language):\n",
    "    \"\"\"Create the URL in the LyricWikia format\"\"\"\n",
    "    url = __BASE_URL__ + '/wiki/{artist}:{song}'.format(artist=urlize(artist), song=urlize(song))\n",
    "    if language:\n",
    "        url += '/{language}'.format(language=urlize(language).lower())\n",
    "    return url"
   ]
  },
  {
   "cell_type": "code",
   "execution_count": 58,
   "metadata": {},
   "outputs": [],
   "source": [
    "def get_lyrics_for_all_languages(artist, song, linesep='\\n', timeout=None):\n",
    "    \"\"\"Retrieve the lyrics of the song in all languages available\"\"\"\n",
    "    url = create_url(artist, song, '')\n",
    "    response = _requests.get(url, timeout=timeout)\n",
    "    soup = _BeautifulSoup(response.content, \"html.parser\")\n",
    "    lyricboxes = soup.find('table', {'class': 'banner banner-song'})\n",
    "    result = dict()\n",
    "    result['default'] = get_lyrics_by_language(artist, song, '', linesep='\\n', timeout=None)\n",
    "    \n",
    "    for a in lyricboxes.findAll('a', href=True):\n",
    "        result[a.getText()] = get_lyrics_by_language(artist, song, a['href'].split('/')[-1], linesep='\\n', timeout=None)\n",
    "    \n",
    "    return result"
   ]
  },
  {
   "cell_type": "code",
   "execution_count": 21,
   "metadata": {},
   "outputs": [],
   "source": [
    "def get_lyrics_by_language(artist, song, language, linesep='\\n', timeout=None):\n",
    "    \"\"\"Retrieve the lyrics of the song in a particular language and return the first one in case\n",
    "    multiple versions are available.\"\"\"\n",
    "    return get_all_lyrics(artist, song, language, linesep, timeout)[0]"
   ]
  },
  {
   "cell_type": "code",
   "execution_count": 17,
   "metadata": {},
   "outputs": [],
   "source": [
    "def get_lyrics(artist, song, language='', linesep='\\n', timeout=None):\n",
    "    \"\"\"Retrieve the lyrics of the song and return the first one in case\n",
    "    multiple versions are available.\"\"\"\n",
    "    return get_all_lyrics(artist, song, language, linesep, timeout)[0]"
   ]
  },
  {
   "cell_type": "code",
   "execution_count": 18,
   "metadata": {},
   "outputs": [],
   "source": [
    "\n",
    "def get_all_lyrics(artist, song, language='', linesep=' \\n ', timeout=None):\n",
    "    \"\"\"Retrieve a list of all the lyrics versions of a song.\"\"\"\n",
    "    url = create_url(artist, song, language)\n",
    "    response = _requests.get(url, timeout=timeout)\n",
    "    soup = _BeautifulSoup(response.content, \"html.parser\")\n",
    "    lyricboxes = soup.findAll('div', {'class': 'lyricbox'})\n",
    "\n",
    "    if not lyricboxes:\n",
    "        raise LyricsNotFound('Cannot download lyrics')\n",
    "\n",
    "    for lyricbox in lyricboxes:\n",
    "        for br in lyricbox.findAll('br'):\n",
    "            br.replace_with(linesep)\n",
    "\n",
    "    return [lyricbox.text.strip() for lyricbox in lyricboxes]"
   ]
  },
  {
   "cell_type": "code",
   "execution_count": 11,
   "metadata": {},
   "outputs": [],
   "source": [
    "class Song(object):\n",
    "    \"\"\"A Song backed by the LyricWikia API\"\"\"\n",
    "\n",
    "    def __init__(self, artist, title):\n",
    "        self.artist = artist\n",
    "        self.title = title\n",
    "\n",
    "    @property\n",
    "    def lyrics(self):\n",
    "        \"\"\"Song lyrics obtained by parsing the LyricWikia page\"\"\"\n",
    "        return get_lyrics(self.artist, self.title,'')\n",
    "\n",
    "    def __str__(self):\n",
    "        return \"Song(artist='%s', title='%s')\" % (self.artist, self.title)\n",
    "\n",
    "    def __repr__(self):\n",
    "        return str(self)"
   ]
  },
  {
   "cell_type": "code",
   "execution_count": 12,
   "metadata": {},
   "outputs": [],
   "source": [
    "class Album(object):\n",
    "    \"\"\"An Album backed by the LyricWikia API\"\"\"\n",
    "\n",
    "    def __init__(self, artist, album_data):\n",
    "        self.artist = artist\n",
    "        self.title = album_data['album']\n",
    "        self.year = album_data['year']\n",
    "        self.songs = [Song(artist, song) for song in album_data['songs']]\n",
    "\n",
    "    def __str__(self):\n",
    "        return \"Album(artist='%s', title='%s')\" % (self.artist, self.title)\n",
    "\n",
    "    def __repr__(self):\n",
    "        return str(self)"
   ]
  },
  {
   "cell_type": "code",
   "execution_count": 13,
   "metadata": {},
   "outputs": [],
   "source": [
    "\n",
    "class Artist(object):\n",
    "    \"\"\"An Artist backed by the LyricWikia API\"\"\"\n",
    "\n",
    "    __API__ = __BASE_URL__ + '/api.php?fmt=json&func=getArtist&artist={artist}'\n",
    "\n",
    "    def __init__(self, name):\n",
    "        url = self.__API__.format(artist=urlize(name))\n",
    "        data = _requests.get(url).json()\n",
    "        self.name = data['artist']\n",
    "        self.albums = [Album(self.name, album) for album in data['albums']]\n",
    "\n",
    "    def __str__(self):\n",
    "        return \"Artist(name='%s')\" % (self.name)\n",
    "\n",
    "    def __repr__(self):\n",
    "        return str(self)"
   ]
  },
  {
   "cell_type": "code",
   "execution_count": 59,
   "metadata": {},
   "outputs": [],
   "source": [
    "lyrics = get_lyrics_for_all_languages('Daisy×Daisy','Evidence')"
   ]
  },
  {
   "cell_type": "code",
   "execution_count": 60,
   "metadata": {},
   "outputs": [
    {
     "name": "stdout",
     "output_type": "stream",
     "text": [
      "{'English': 'I was always looking for the evidence that I was here\\n'\n",
      "            'When I realized it, it was in my right pocket\\n'\n",
      "            \"Today's sky is blue and is clearing up brightly\\n\"\n",
      "            'It was as it made the world transparent\\n'\n",
      "            '\\n'\n",
      "            \"Even me who said it can't be found and gave up\\n\"\n",
      "            'Even you who said it could be found and comforted me\\n'\n",
      "            \"The meaning of life doesn't change at all\\n\"\n",
      "            '\\n'\n",
      "            'Fragile melody\\n'\n",
      "            'If I can spin out just one sure tone\\n'\n",
      "            \"Then it doesn't matter\\n\"\n",
      "            'If everything that I believed in was a lie\\n'\n",
      "            '\\n'\n",
      "            \"Even when I presented the evidence that wasn't here\\n\"\n",
      "            'It was always in my right pocket\\n'\n",
      "            \"Today's streets are dark and cutting the stagnation\\n\"\n",
      "            'It was as if it was filling up the world\\n'\n",
      "            '\\n'\n",
      "            'Even me who kept on scarring you, saying sorry and running away\\n'\n",
      "            'Even you who smiled, saying thank you and accepted it\\n'\n",
      "            \"The meaning of life doesn't change at all\\n\"\n",
      "            '\\n'\n",
      "            'If I can find one sure answer\\n'\n",
      "            \"In the world that seems like it's going to break\\n\"\n",
      "            'The time will come\\n'\n",
      "            'When even myself until now will smile and forgive\\n'\n",
      "            '\\n'\n",
      "            \"I can't deliver it with just words\\n\"\n",
      "            \"The evidence that we're here in this place\\n\"\n",
      "            'I wonder how many songs I can deliver\\n'\n",
      "            \"In this world that's breaking apart\\n\"\n",
      "            '\\n'\n",
      "            'Fragile melody\\n'\n",
      "            'If I can spin out just one sure tone\\n'\n",
      "            \"Then it doesn't matter\\n\"\n",
      "            'If everything that I believed in was a lie',\n",
      " 'Romanized': \"koko ni iru shoumei wo itsumo sagashite'ru\\n\"\n",
      "              'sore wa ki ga tsukeba migi POKETTO ni atta\\n'\n",
      "              'kyou no sora wa aoku sumiwatatteite\\n'\n",
      "              'maru de sekai wo toumei ni shita mitai da\\n'\n",
      "              '\\n'\n",
      "              'mitsukaranai mono datte akirameru boku mo\\n'\n",
      "              'mitsukaru hazu da yotte nagusameru kimi mo\\n'\n",
      "              'ikite yuku imi wa nani hitotsu kawaranai kara\\n'\n",
      "              '\\n'\n",
      "              'kowaresou na MERODII\\n'\n",
      "              'hitotsu dake tashika na omoi tsumugidasetara\\n'\n",
      "              'boku ga shinjite kita subete ga uso datta to shitemo\\n'\n",
      "              'kamawanai kara\\n'\n",
      "              '\\n'\n",
      "              'koko ni inai shoumei wo tsukitsukeraretemo\\n'\n",
      "              'sore wa itsudatte migi POKETTO ni atta\\n'\n",
      "              'kyou no machi wa kuroku yodomi kitteite\\n'\n",
      "              'maru de sekai wo nuritsubushita mitai da\\n'\n",
      "              '\\n'\n",
      "              'GOMEN ne tte nigedashite kizutsuketa boku mo\\n'\n",
      "              'arigatou tte hohoende uketometa kimi mo\\n'\n",
      "              'ikite yuku imi wa nani hitotsu kawaranai kara\\n'\n",
      "              '\\n'\n",
      "              'kowaresou na sekai de\\n'\n",
      "              'hitotsu dake tashika na kotae mitsukedasetara\\n'\n",
      "              'kore made no boku mo egao de yuruseru toki ga\\n'\n",
      "              'yatte kuru kara\\n'\n",
      "              '\\n'\n",
      "              'kotoba dake ja tsutaekirenai\\n'\n",
      "              'bokura ga ima koko ni iru akashi wa\\n'\n",
      "              'kuzurekaketa sekai no naka de\\n'\n",
      "              'dore dake no utagoe todokerareru kana\\n'\n",
      "              '\\n'\n",
      "              'kowaresou na MERODII\\n'\n",
      "              'hitotsu dake tashika na omoi tsumugidasetara\\n'\n",
      "              'boku ga shinjite kita subete ga uso datta to shitemo\\n'\n",
      "              'kamawanai kara',\n",
      " 'default': 'ここにいる証明をいつも探してる\\n'\n",
      "            'それは気がつけば右ポケットにあった\\n'\n",
      "            '今日の空は蒼く澄み渡っていて\\n'\n",
      "            'まるで世界を透明にしたみたいだ\\n'\n",
      "            '\\n'\n",
      "            '見つからないものだって諦める僕も\\n'\n",
      "            '見つかるはずだよって慰める君も\\n'\n",
      "            '生きてゆく意味は何ひとつ変わらないから\\n'\n",
      "            '\\n'\n",
      "            '壊れそうなメロディー\\n'\n",
      "            'ひとつだけ確かな音色(おもい)\\u3000紡ぎ出せたら\\n'\n",
      "            '僕が信じてきた全てが嘘だったとしても\\n'\n",
      "            '構わないから\\n'\n",
      "            '\\n'\n",
      "            'ここにいない証明を突き付けられても\\n'\n",
      "            'それはいつだって右ポケットにあった\\n'\n",
      "            '今日の街は黒くよどみ切っていて\\n'\n",
      "            'まるで世界を塗り潰したみたいだ\\n'\n",
      "            '\\n'\n",
      "            'ゴメンねって逃げ出して傷つけた僕も\\n'\n",
      "            'ありがとうって微笑んで受け止めた君も\\n'\n",
      "            '生きてゆく意味は何ひとつ変わらないから\\n'\n",
      "            '\\n'\n",
      "            '壊れそうな世界で\\n'\n",
      "            'ひとつだけ確かな答え見つけ出せたら\\n'\n",
      "            'これまでの僕も笑顔で許せる時が\\n'\n",
      "            'やって来るから\\n'\n",
      "            '\\n'\n",
      "            '言葉だけじゃ伝え切れない\\n'\n",
      "            '僕らが今ここにいる証は\\n'\n",
      "            '崩れかけた世界の中で\\n'\n",
      "            'どれだけの歌声届けられるかな\\n'\n",
      "            '\\n'\n",
      "            '壊れそうなメロディー\\n'\n",
      "            'ひとつだけ確かな音色(おもい)\\u3000紡ぎ出せたら\\n'\n",
      "            '僕が信じてきた全てが嘘だったとしても\\n'\n",
      "            '構わないから'}\n"
     ]
    }
   ],
   "source": [
    "pprint (lyrics)"
   ]
  },
  {
   "cell_type": "code",
   "execution_count": null,
   "metadata": {},
   "outputs": [],
   "source": []
  }
 ],
 "metadata": {
  "kernelspec": {
   "display_name": "Python 3",
   "language": "python",
   "name": "python3"
  },
  "language_info": {
   "codemirror_mode": {
    "name": "ipython",
    "version": 3
   },
   "file_extension": ".py",
   "mimetype": "text/x-python",
   "name": "python",
   "nbconvert_exporter": "python",
   "pygments_lexer": "ipython3",
   "version": "3.7.7"
  }
 },
 "nbformat": 4,
 "nbformat_minor": 2
}
