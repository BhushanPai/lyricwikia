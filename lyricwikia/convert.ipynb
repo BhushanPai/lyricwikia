{
 "cells": [
  {
   "cell_type": "code",
   "execution_count": 1,
   "metadata": {},
   "outputs": [
    {
     "name": "stdout",
     "output_type": "stream",
     "text": [
      "Requirement already satisfied: nbconvert in /Library/Frameworks/Python.framework/Versions/3.7/lib/python3.7/site-packages (5.6.0)\n",
      "Requirement already satisfied: jinja2>=2.4 in /Library/Frameworks/Python.framework/Versions/3.7/lib/python3.7/site-packages (from nbconvert) (2.10.3)\n",
      "Requirement already satisfied: pandocfilters>=1.4.1 in /Library/Frameworks/Python.framework/Versions/3.7/lib/python3.7/site-packages (from nbconvert) (1.4.2)\n",
      "Requirement already satisfied: traitlets>=4.2 in /Library/Frameworks/Python.framework/Versions/3.7/lib/python3.7/site-packages (from nbconvert) (4.3.2)\n",
      "Requirement already satisfied: pygments in /Library/Frameworks/Python.framework/Versions/3.7/lib/python3.7/site-packages (from nbconvert) (2.4.2)\n",
      "Requirement already satisfied: mistune<2,>=0.8.1 in /Library/Frameworks/Python.framework/Versions/3.7/lib/python3.7/site-packages (from nbconvert) (0.8.4)\n",
      "Requirement already satisfied: testpath in /Library/Frameworks/Python.framework/Versions/3.7/lib/python3.7/site-packages (from nbconvert) (0.4.2)\n",
      "Requirement already satisfied: bleach in /Library/Frameworks/Python.framework/Versions/3.7/lib/python3.7/site-packages (from nbconvert) (3.1.0)\n",
      "Requirement already satisfied: jupyter-core in /Library/Frameworks/Python.framework/Versions/3.7/lib/python3.7/site-packages (from nbconvert) (4.5.0)\n",
      "Requirement already satisfied: nbformat>=4.4 in /Library/Frameworks/Python.framework/Versions/3.7/lib/python3.7/site-packages (from nbconvert) (4.4.0)\n",
      "Requirement already satisfied: defusedxml in /Library/Frameworks/Python.framework/Versions/3.7/lib/python3.7/site-packages (from nbconvert) (0.6.0)\n",
      "Requirement already satisfied: entrypoints>=0.2.2 in /Library/Frameworks/Python.framework/Versions/3.7/lib/python3.7/site-packages (from nbconvert) (0.3)\n",
      "Requirement already satisfied: MarkupSafe>=0.23 in /Library/Frameworks/Python.framework/Versions/3.7/lib/python3.7/site-packages (from jinja2>=2.4->nbconvert) (1.1.1)\n",
      "Requirement already satisfied: ipython-genutils in /Library/Frameworks/Python.framework/Versions/3.7/lib/python3.7/site-packages (from traitlets>=4.2->nbconvert) (0.2.0)\n",
      "Requirement already satisfied: six in /Library/Frameworks/Python.framework/Versions/3.7/lib/python3.7/site-packages (from traitlets>=4.2->nbconvert) (1.12.0)\n",
      "Requirement already satisfied: decorator in /Library/Frameworks/Python.framework/Versions/3.7/lib/python3.7/site-packages (from traitlets>=4.2->nbconvert) (4.4.0)\n",
      "Requirement already satisfied: webencodings in /Library/Frameworks/Python.framework/Versions/3.7/lib/python3.7/site-packages (from bleach->nbconvert) (0.5.1)\n",
      "Requirement already satisfied: jsonschema!=2.5.0,>=2.4 in /Library/Frameworks/Python.framework/Versions/3.7/lib/python3.7/site-packages (from nbformat>=4.4->nbconvert) (3.0.2)\n",
      "Requirement already satisfied: attrs>=17.4.0 in /Library/Frameworks/Python.framework/Versions/3.7/lib/python3.7/site-packages (from jsonschema!=2.5.0,>=2.4->nbformat>=4.4->nbconvert) (19.2.0)\n",
      "Requirement already satisfied: setuptools in /Library/Frameworks/Python.framework/Versions/3.7/lib/python3.7/site-packages (from jsonschema!=2.5.0,>=2.4->nbformat>=4.4->nbconvert) (40.8.0)\n",
      "Requirement already satisfied: pyrsistent>=0.14.0 in /Library/Frameworks/Python.framework/Versions/3.7/lib/python3.7/site-packages (from jsonschema!=2.5.0,>=2.4->nbformat>=4.4->nbconvert) (0.15.4)\n",
      "Could not build wheels for nbconvert, since package 'wheel' is not installed.\n",
      "Could not build wheels for jinja2, since package 'wheel' is not installed.\n",
      "Could not build wheels for pandocfilters, since package 'wheel' is not installed.\n",
      "Could not build wheels for traitlets, since package 'wheel' is not installed.\n",
      "Could not build wheels for pygments, since package 'wheel' is not installed.\n",
      "Could not build wheels for mistune, since package 'wheel' is not installed.\n",
      "Could not build wheels for testpath, since package 'wheel' is not installed.\n",
      "Could not build wheels for bleach, since package 'wheel' is not installed.\n",
      "Could not build wheels for jupyter-core, since package 'wheel' is not installed.\n",
      "Could not build wheels for nbformat, since package 'wheel' is not installed.\n",
      "Could not build wheels for defusedxml, since package 'wheel' is not installed.\n",
      "Could not build wheels for entrypoints, since package 'wheel' is not installed.\n",
      "Could not build wheels for MarkupSafe, since package 'wheel' is not installed.\n",
      "Could not build wheels for ipython-genutils, since package 'wheel' is not installed.\n",
      "Could not build wheels for six, since package 'wheel' is not installed.\n",
      "Could not build wheels for decorator, since package 'wheel' is not installed.\n",
      "Could not build wheels for webencodings, since package 'wheel' is not installed.\n",
      "Could not build wheels for jsonschema, since package 'wheel' is not installed.\n",
      "Could not build wheels for attrs, since package 'wheel' is not installed.\n",
      "Could not build wheels for setuptools, since package 'wheel' is not installed.\n",
      "Could not build wheels for pyrsistent, since package 'wheel' is not installed.\n",
      "Requirement already satisfied: ipython in /Library/Frameworks/Python.framework/Versions/3.7/lib/python3.7/site-packages (7.8.0)\n",
      "Requirement already satisfied: decorator in /Library/Frameworks/Python.framework/Versions/3.7/lib/python3.7/site-packages (from ipython) (4.4.0)\n",
      "Requirement already satisfied: appnope; sys_platform == \"darwin\" in /Library/Frameworks/Python.framework/Versions/3.7/lib/python3.7/site-packages (from ipython) (0.1.0)\n",
      "Requirement already satisfied: backcall in /Library/Frameworks/Python.framework/Versions/3.7/lib/python3.7/site-packages (from ipython) (0.1.0)\n",
      "Requirement already satisfied: jedi>=0.10 in /Library/Frameworks/Python.framework/Versions/3.7/lib/python3.7/site-packages (from ipython) (0.15.1)\n",
      "Requirement already satisfied: pickleshare in /Library/Frameworks/Python.framework/Versions/3.7/lib/python3.7/site-packages (from ipython) (0.7.5)\n",
      "Requirement already satisfied: pexpect; sys_platform != \"win32\" in /Library/Frameworks/Python.framework/Versions/3.7/lib/python3.7/site-packages (from ipython) (4.7.0)\n",
      "Requirement already satisfied: prompt-toolkit<2.1.0,>=2.0.0 in /Library/Frameworks/Python.framework/Versions/3.7/lib/python3.7/site-packages (from ipython) (2.0.9)\n",
      "Requirement already satisfied: setuptools>=18.5 in /Library/Frameworks/Python.framework/Versions/3.7/lib/python3.7/site-packages (from ipython) (40.8.0)\n",
      "Requirement already satisfied: pygments in /Library/Frameworks/Python.framework/Versions/3.7/lib/python3.7/site-packages (from ipython) (2.4.2)\n",
      "Requirement already satisfied: traitlets>=4.2 in /Library/Frameworks/Python.framework/Versions/3.7/lib/python3.7/site-packages (from ipython) (4.3.2)\n",
      "Requirement already satisfied: parso>=0.5.0 in /Library/Frameworks/Python.framework/Versions/3.7/lib/python3.7/site-packages (from jedi>=0.10->ipython) (0.5.1)\n",
      "Requirement already satisfied: ptyprocess>=0.5 in /Library/Frameworks/Python.framework/Versions/3.7/lib/python3.7/site-packages (from pexpect; sys_platform != \"win32\"->ipython) (0.6.0)\n",
      "Requirement already satisfied: six>=1.9.0 in /Library/Frameworks/Python.framework/Versions/3.7/lib/python3.7/site-packages (from prompt-toolkit<2.1.0,>=2.0.0->ipython) (1.12.0)\n",
      "Requirement already satisfied: wcwidth in /Library/Frameworks/Python.framework/Versions/3.7/lib/python3.7/site-packages (from prompt-toolkit<2.1.0,>=2.0.0->ipython) (0.1.7)\n",
      "Requirement already satisfied: ipython-genutils in /Library/Frameworks/Python.framework/Versions/3.7/lib/python3.7/site-packages (from traitlets>=4.2->ipython) (0.2.0)\n",
      "Could not build wheels for ipython, since package 'wheel' is not installed.\n",
      "Could not build wheels for decorator, since package 'wheel' is not installed.\n",
      "Could not build wheels for appnope, since package 'wheel' is not installed.\n",
      "Could not build wheels for backcall, since package 'wheel' is not installed.\n",
      "Could not build wheels for jedi, since package 'wheel' is not installed.\n",
      "Could not build wheels for pickleshare, since package 'wheel' is not installed.\n",
      "Could not build wheels for pexpect, since package 'wheel' is not installed.\n",
      "Could not build wheels for prompt-toolkit, since package 'wheel' is not installed.\n",
      "Could not build wheels for setuptools, since package 'wheel' is not installed.\n",
      "Could not build wheels for pygments, since package 'wheel' is not installed.\n",
      "Could not build wheels for traitlets, since package 'wheel' is not installed.\n",
      "Could not build wheels for parso, since package 'wheel' is not installed.\n",
      "Could not build wheels for ptyprocess, since package 'wheel' is not installed.\n",
      "Could not build wheels for six, since package 'wheel' is not installed.\n",
      "Could not build wheels for wcwidth, since package 'wheel' is not installed.\n",
      "Could not build wheels for ipython-genutils, since package 'wheel' is not installed.\n"
     ]
    }
   ],
   "source": [
    "!pip3 install nbconvert\n",
    "!pip3 install ipython"
   ]
  },
  {
   "cell_type": "code",
   "execution_count": 7,
   "metadata": {},
   "outputs": [
    {
     "ename": "SyntaxError",
     "evalue": "invalid syntax (<ipython-input-7-b5b5c1ac8570>, line 1)",
     "output_type": "error",
     "traceback": [
      "\u001b[0;36m  File \u001b[0;32m\"<ipython-input-7-b5b5c1ac8570>\"\u001b[0;36m, line \u001b[0;32m1\u001b[0m\n\u001b[0;31m    ipython nbconvert --to script ./new_lyricwikia.ipynb\u001b[0m\n\u001b[0m                    ^\u001b[0m\n\u001b[0;31mSyntaxError\u001b[0m\u001b[0;31m:\u001b[0m invalid syntax\n"
     ]
    }
   ],
   "source": [
    "ipython nbconvert --to script ./new_lyricwikia.ipynb\n"
   ]
  },
  {
   "cell_type": "code",
   "execution_count": 5,
   "metadata": {},
   "outputs": [],
   "source": []
  },
  {
   "cell_type": "code",
   "execution_count": 6,
   "metadata": {},
   "outputs": [],
   "source": []
  },
  {
   "cell_type": "code",
   "execution_count": 7,
   "metadata": {},
   "outputs": [],
   "source": []
  },
  {
   "cell_type": "code",
   "execution_count": null,
   "metadata": {},
   "outputs": [],
   "source": []
  }
 ],
 "metadata": {
  "kernelspec": {
   "display_name": "Python 3",
   "language": "python",
   "name": "python3"
  },
  "language_info": {
   "codemirror_mode": {
    "name": "ipython",
    "version": 3
   },
   "file_extension": ".py",
   "mimetype": "text/x-python",
   "name": "python",
   "nbconvert_exporter": "python",
   "pygments_lexer": "ipython3",
   "version": "3.7.4"
  }
 },
 "nbformat": 4,
 "nbformat_minor": 2
}
