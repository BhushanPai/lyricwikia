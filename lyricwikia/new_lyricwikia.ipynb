{
 "cells": [
  {
   "cell_type": "code",
   "execution_count": 1,
   "metadata": {},
   "outputs": [
    {
     "name": "stdout",
     "output_type": "stream",
     "text": [
      "Requirement already satisfied: pprint in /Library/Frameworks/Python.framework/Versions/3.7/lib/python3.7/site-packages (0.1)\r\n",
      "Could not build wheels for pprint, since package 'wheel' is not installed.\r\n"
     ]
    }
   ],
   "source": [
    "!pip3 install pprint\n",
    "from pprint import pprint"
   ]
  },
  {
   "cell_type": "code",
   "execution_count": 2,
   "metadata": {
    "scrolled": true
   },
   "outputs": [
    {
     "name": "stdout",
     "output_type": "stream",
     "text": [
      "Requirement already satisfied: beautifulsoup4 in /Library/Frameworks/Python.framework/Versions/3.7/lib/python3.7/site-packages (4.9.0)\n",
      "Requirement already satisfied: soupsieve>1.2 in /Library/Frameworks/Python.framework/Versions/3.7/lib/python3.7/site-packages (from beautifulsoup4) (2.0)\n",
      "Could not build wheels for beautifulsoup4, since package 'wheel' is not installed.\n",
      "Could not build wheels for soupsieve, since package 'wheel' is not installed.\n"
     ]
    }
   ],
   "source": [
    "!pip3 install beautifulsoup4"
   ]
  },
  {
   "cell_type": "code",
   "execution_count": 3,
   "metadata": {},
   "outputs": [
    {
     "name": "stdout",
     "output_type": "stream",
     "text": [
      "Requirement already up-to-date: pip in /Library/Frameworks/Python.framework/Versions/3.7/lib/python3.7/site-packages (20.1)\r\n",
      "Could not build wheels for pip, since package 'wheel' is not installed.\r\n"
     ]
    }
   ],
   "source": [
    "!pip3 install --upgrade pip"
   ]
  },
  {
   "cell_type": "code",
   "execution_count": 4,
   "metadata": {},
   "outputs": [
    {
     "name": "stdout",
     "output_type": "stream",
     "text": [
      "Requirement already satisfied: requests in /Library/Frameworks/Python.framework/Versions/3.7/lib/python3.7/site-packages (2.23.0)\n",
      "Requirement already satisfied: chardet<4,>=3.0.2 in /Library/Frameworks/Python.framework/Versions/3.7/lib/python3.7/site-packages (from requests) (3.0.4)\n",
      "Requirement already satisfied: urllib3!=1.25.0,!=1.25.1,<1.26,>=1.21.1 in /Library/Frameworks/Python.framework/Versions/3.7/lib/python3.7/site-packages (from requests) (1.25.9)\n",
      "Requirement already satisfied: certifi>=2017.4.17 in /Library/Frameworks/Python.framework/Versions/3.7/lib/python3.7/site-packages (from requests) (2020.4.5.1)\n",
      "Requirement already satisfied: idna<3,>=2.5 in /Library/Frameworks/Python.framework/Versions/3.7/lib/python3.7/site-packages (from requests) (2.9)\n",
      "Could not build wheels for requests, since package 'wheel' is not installed.\n",
      "Could not build wheels for chardet, since package 'wheel' is not installed.\n",
      "Could not build wheels for urllib3, since package 'wheel' is not installed.\n",
      "Could not build wheels for certifi, since package 'wheel' is not installed.\n",
      "Could not build wheels for idna, since package 'wheel' is not installed.\n"
     ]
    }
   ],
   "source": [
    "!pip3 install requests"
   ]
  },
  {
   "cell_type": "code",
   "execution_count": 5,
   "metadata": {},
   "outputs": [],
   "source": [
    "from six.moves.urllib.parse import quote as _quote\n",
    "from bs4 import BeautifulSoup as _BeautifulSoup\n",
    "import requests as _requests\n",
    "import urllib\n",
    "import os\n",
    "import pandas as pd\n",
    "\n",
    "__BASE_URL__ = 'https://lyrics.fandom.com'"
   ]
  },
  {
   "cell_type": "code",
   "execution_count": 6,
   "metadata": {},
   "outputs": [],
   "source": [
    "class LyricsNotFound(Exception):\n",
    "    __module__ = Exception.__module__\n",
    "\n",
    "    def __init__(self, message=None):\n",
    "        super(LyricsNotFound, self).__init__(message)"
   ]
  },
  {
   "cell_type": "code",
   "execution_count": 7,
   "metadata": {},
   "outputs": [],
   "source": [
    "class LanguageNotFound(Exception):\n",
    "    __module__ = Exception.__module__\n",
    "\n",
    "    def __init__(self, message=None):\n",
    "        super(LanguageNotFound, self).__init__(message)"
   ]
  },
  {
   "cell_type": "code",
   "execution_count": 8,
   "metadata": {},
   "outputs": [],
   "source": [
    "def urlize(string):\n",
    "    \"\"\"Convert string to LyricWikia format\"\"\"\n",
    "    return _quote('_'.join(string.split()))"
   ]
  },
  {
   "cell_type": "code",
   "execution_count": 9,
   "metadata": {},
   "outputs": [],
   "source": [
    "def create_url(artist, song, language):\n",
    "    \"\"\"Create the URL in the LyricWikia format\"\"\"\n",
    "    url = __BASE_URL__ + '/wiki/{artist}:{song}'.format(artist=urlize(artist), song=urlize(song))\n",
    "    if language:\n",
    "        url += '/{language}'.format(language=urlize(language).lower())\n",
    "    return url"
   ]
  },
  {
   "cell_type": "code",
   "execution_count": 10,
   "metadata": {},
   "outputs": [],
   "source": [
    "def get_lyrics_for_all_languages(artist, song, linesep='\\n', timeout=None):\n",
    "    \"\"\"Retrieve the lyrics of the song in all languages available\"\"\"\n",
    "    url = create_url(artist, song, '')\n",
    "    response = _requests.get(url, timeout=timeout)\n",
    "    soup = _BeautifulSoup(response.content, \"html.parser\")\n",
    "    lyricboxes = soup.find('table', {'class': 'banner banner-song'})\n",
    "    result = dict()\n",
    "    result['default'] = get_lyrics_by_language(artist, song, '', linesep='\\n', timeout=None)\n",
    "    \n",
    "    for a in lyricboxes.findAll('a', href=True):\n",
    "        result[a.getText()] = get_lyrics_by_language(artist, song, a['href'].split('/')[-1], linesep='\\n', timeout=None)\n",
    "    \n",
    "    return result"
   ]
  },
  {
   "cell_type": "code",
   "execution_count": 11,
   "metadata": {},
   "outputs": [],
   "source": [
    "def get_lyrics_by_language(artist, song, language, linesep='\\n', timeout=None):\n",
    "    \"\"\"Retrieve the lyrics of the song in a particular language and return the first one in case\n",
    "    multiple versions are available.\"\"\"\n",
    "    return get_all_lyrics(artist, song, language, linesep, timeout)[0]"
   ]
  },
  {
   "cell_type": "code",
   "execution_count": 12,
   "metadata": {},
   "outputs": [],
   "source": [
    "def get_lyrics(artist, song, language='', linesep='\\n', timeout=None):\n",
    "    \"\"\"Retrieve the lyrics of the song and return the first one in case\n",
    "    multiple versions are available.\"\"\"\n",
    "    return get_all_lyrics(artist, song, language, linesep, timeout)[0]"
   ]
  },
  {
   "cell_type": "code",
   "execution_count": 13,
   "metadata": {},
   "outputs": [],
   "source": [
    "\n",
    "def get_all_lyrics(artist, song, language='', linesep=' \\n ', timeout=None):\n",
    "    \"\"\"Retrieve a list of all the lyrics versions of a song.\"\"\"\n",
    "    url = create_url(artist, song, language)\n",
    "    response = _requests.get(url, timeout=timeout)\n",
    "    soup = _BeautifulSoup(response.content, \"html.parser\")\n",
    "    lyricboxes = soup.findAll('div', {'class': 'lyricbox'})\n",
    "\n",
    "    if not lyricboxes:\n",
    "        raise LyricsNotFound('Cannot download lyrics')\n",
    "\n",
    "    for lyricbox in lyricboxes:\n",
    "        for br in lyricbox.findAll('br'):\n",
    "            br.replace_with(linesep)\n",
    "\n",
    "    return [lyricbox.text.strip() for lyricbox in lyricboxes]"
   ]
  },
  {
   "cell_type": "code",
   "execution_count": 14,
   "metadata": {},
   "outputs": [],
   "source": [
    "def get_songs_by_artist(artist, linesep=' \\n ', timeout=None):\n",
    "    \"\"\"Retrieve a dataframe of all lyrics versions of a song.\"\"\"\n",
    "    df = pd.DataFrame(columns=['Artist', 'Title'])\n",
    "    url = __BASE_URL__+\"/Category:Songs_by_\"+urlize(artist)\n",
    "    df = parse_page_now(url,df)\n",
    "    return df"
   ]
  },
  {
   "cell_type": "code",
   "execution_count": 15,
   "metadata": {},
   "outputs": [],
   "source": [
    "def get_songs_by_language(language, linesep=' \\n ', timeout=None):\n",
    "    \"\"\"Retrieve a dataframe of all lyrics versions of a song.\"\"\"\n",
    "    df = pd.DataFrame(columns=['Artist', 'Title'])\n",
    "    url = __BASE_URL__+\"/wiki/Category:Language/\"+language\n",
    "    df = parse_page_now(url,df)\n",
    "    return df"
   ]
  },
  {
   "cell_type": "code",
   "execution_count": 16,
   "metadata": {},
   "outputs": [],
   "source": [
    "def parse_page_now(url, df, timeout=None):\n",
    "    response = _requests.get(url, timeout=timeout)\n",
    "    soup = _BeautifulSoup(response.content, \"html.parser\")\n",
    "    data = soup.findAll('li',attrs={'class':'category-page__member'})\n",
    "    \n",
    "    if not data:\n",
    "        raise LanguageNotFound('No such artist')\n",
    "    \n",
    "    for div in data:\n",
    "        links = div.findAll('a')\n",
    "        for a in links:\n",
    "            \n",
    "            lyric_link = a['href'].strip('/wiki/')\n",
    "            artist = lyric_link.split(\":\")[0]\n",
    "            title = lyric_link.split(\":\")[1]\n",
    "            if(artist == \"Category\"):\n",
    "                continue\n",
    "            df = df.append({'Artist': artist, 'Title': title}, ignore_index=True)\n",
    "    \n",
    "    if(soup.find('div', attrs={'class':'category-page__pagination'}) == None):\n",
    "        return df\n",
    "\n",
    "    next_page_text = soup.find('div', attrs={'class':'category-page__pagination'}).find('a', attrs={'class':'category-page__pagination-next wds-button wds-is-secondary'})\n",
    "    if next_page_text != None:\n",
    "        next_page_url = next_page_text['href']\n",
    "        df = parse_page_now(next_page_url,df)\n",
    "    return df"
   ]
  },
  {
   "cell_type": "code",
   "execution_count": 17,
   "metadata": {},
   "outputs": [],
   "source": [
    "def parse_page_now(url, df, timeout=None):\n",
    "    response = _requests.get(url, timeout=timeout)\n",
    "    soup = _BeautifulSoup(response.content, \"html.parser\")\n",
    "    data = soup.findAll('li',attrs={'class':'category-page__member'})\n",
    "    \n",
    "    if not data:\n",
    "        raise LanguageNotFound('No such language')\n",
    "    \n",
    "    for div in data:\n",
    "        links = div.findAll('a')\n",
    "        for a in links:\n",
    "            \n",
    "            lyric_link = a['href'].strip('/wiki/')\n",
    "            artist = lyric_link.split(\":\")[0]\n",
    "            title = lyric_link.split(\":\")[1]\n",
    "            if(artist == \"Category\"):\n",
    "                continue\n",
    "            df = df.append({'Artist': artist, 'Title': title}, ignore_index=True)\n",
    "    \n",
    "    if(soup.find('div', attrs={'class':'category-page__pagination'}) == None):\n",
    "        return df\n",
    "\n",
    "    next_page_text = soup.find('div', attrs={'class':'category-page__pagination'}).find('a', attrs={'class':'category-page__pagination-next wds-button wds-is-secondary'})\n",
    "    if next_page_text != None:\n",
    "        next_page_url = next_page_text['href']\n",
    "        df = parse_page_now(next_page_url,df)\n",
    "    return df"
   ]
  },
  {
   "cell_type": "code",
   "execution_count": 18,
   "metadata": {},
   "outputs": [],
   "source": [
    "class Song(object):\n",
    "    \"\"\"A Song backed by the LyricWikia API\"\"\"\n",
    "\n",
    "    def __init__(self, artist, title):\n",
    "        self.artist = artist\n",
    "        self.title = title\n",
    "\n",
    "    @property\n",
    "    def lyrics(self):\n",
    "        \"\"\"Song lyrics obtained by parsing the LyricWikia page\"\"\"\n",
    "        return get_lyrics(self.artist, self.title,'')\n",
    "\n",
    "    def __str__(self):\n",
    "        return \"Song(artist='%s', title='%s')\" % (self.artist, self.title)\n",
    "\n",
    "    def __repr__(self):\n",
    "        return str(self)"
   ]
  },
  {
   "cell_type": "code",
   "execution_count": 19,
   "metadata": {},
   "outputs": [],
   "source": [
    "class Album(object):\n",
    "    \"\"\"An Album backed by the LyricWikia API\"\"\"\n",
    "\n",
    "    def __init__(self, artist, album_data):\n",
    "        self.artist = artist\n",
    "        self.title = album_data['album']\n",
    "        self.year = album_data['year']\n",
    "        self.songs = [Song(artist, song) for song in album_data['songs']]\n",
    "\n",
    "    def __str__(self):\n",
    "        return \"Album(artist='%s', title='%s')\" % (self.artist, self.title)\n",
    "\n",
    "    def __repr__(self):\n",
    "        return str(self)"
   ]
  },
  {
   "cell_type": "code",
   "execution_count": 20,
   "metadata": {},
   "outputs": [],
   "source": [
    "\n",
    "class Artist(object):\n",
    "    \"\"\"An Artist backed by the LyricWikia API\"\"\"\n",
    "\n",
    "    __API__ = __BASE_URL__ + '/api.php?fmt=json&func=getArtist&artist={artist}'\n",
    "\n",
    "    def __init__(self, name):\n",
    "        url = self.__API__.format(artist=urlize(name))\n",
    "        data = _requests.get(url).json()\n",
    "        self.name = data['artist']\n",
    "        self.albums = [Album(self.name, album) for album in data['albums']]\n",
    "\n",
    "    def __str__(self):\n",
    "        return \"Artist(name='%s')\" % (self.name)\n",
    "\n",
    "    def __repr__(self):\n",
    "        return str(self)"
   ]
  },
  {
   "cell_type": "code",
   "execution_count": 21,
   "metadata": {},
   "outputs": [],
   "source": [
    "artist_name = \"Mondstille\"\n",
    "df = pd.DataFrame(columns=['Artist', 'Title'])\n",
    "url = \"https://lyrics.fandom.com/wiki/Category:Songs_by_\"+artist_name\n",
    "df = parse_page_now(url,df)"
   ]
  },
  {
   "cell_type": "code",
   "execution_count": 22,
   "metadata": {},
   "outputs": [
    {
     "data": {
      "text/html": [
       "<div>\n",
       "<style scoped>\n",
       "    .dataframe tbody tr th:only-of-type {\n",
       "        vertical-align: middle;\n",
       "    }\n",
       "\n",
       "    .dataframe tbody tr th {\n",
       "        vertical-align: top;\n",
       "    }\n",
       "\n",
       "    .dataframe thead th {\n",
       "        text-align: right;\n",
       "    }\n",
       "</style>\n",
       "<table border=\"1\" class=\"dataframe\">\n",
       "  <thead>\n",
       "    <tr style=\"text-align: right;\">\n",
       "      <th></th>\n",
       "      <th>Artist</th>\n",
       "      <th>Title</th>\n",
       "    </tr>\n",
       "  </thead>\n",
       "  <tbody>\n",
       "    <tr>\n",
       "      <td>0</td>\n",
       "      <td>Mondstille</td>\n",
       "      <td>Dem_Tod_Zum_Gru%C3%9Fe</td>\n",
       "    </tr>\n",
       "    <tr>\n",
       "      <td>1</td>\n",
       "      <td>Mondstille</td>\n",
       "      <td>Der_Stille_Mond</td>\n",
       "    </tr>\n",
       "    <tr>\n",
       "      <td>2</td>\n",
       "      <td>Mondstille</td>\n",
       "      <td>Die_Seele_Fre</td>\n",
       "    </tr>\n",
       "    <tr>\n",
       "      <td>3</td>\n",
       "      <td>Mondstille</td>\n",
       "      <td>Erwachen...</td>\n",
       "    </tr>\n",
       "    <tr>\n",
       "      <td>4</td>\n",
       "      <td>Mondstille</td>\n",
       "      <td>Flammend</td>\n",
       "    </tr>\n",
       "    <tr>\n",
       "      <td>5</td>\n",
       "      <td>Mondstille</td>\n",
       "      <td>Ich_Bin_Der_Tod</td>\n",
       "    </tr>\n",
       "    <tr>\n",
       "      <td>6</td>\n",
       "      <td>Mondstille</td>\n",
       "      <td>Ich_Hab_Getr%C3%A4umt...</td>\n",
       "    </tr>\n",
       "    <tr>\n",
       "      <td>7</td>\n",
       "      <td>Mondstille</td>\n",
       "      <td>Ich,_Der_Plan</td>\n",
       "    </tr>\n",
       "    <tr>\n",
       "      <td>8</td>\n",
       "      <td>Mondstille</td>\n",
       "      <td>Im_Trauerhain</td>\n",
       "    </tr>\n",
       "    <tr>\n",
       "      <td>9</td>\n",
       "      <td>Mondstille</td>\n",
       "      <td>In_Der_Ferne</td>\n",
       "    </tr>\n",
       "    <tr>\n",
       "      <td>10</td>\n",
       "      <td>Mondstille</td>\n",
       "      <td>In_Mondes_Stille</td>\n",
       "    </tr>\n",
       "    <tr>\n",
       "      <td>11</td>\n",
       "      <td>Mondstille</td>\n",
       "      <td>Mein_Inner_Sturm</td>\n",
       "    </tr>\n",
       "    <tr>\n",
       "      <td>12</td>\n",
       "      <td>Mondstille</td>\n",
       "      <td>Mir_Tr%C3%A4umt%27</td>\n",
       "    </tr>\n",
       "    <tr>\n",
       "      <td>13</td>\n",
       "      <td>Mondstille</td>\n",
       "      <td>Seelenwund</td>\n",
       "    </tr>\n",
       "    <tr>\n",
       "      <td>14</td>\n",
       "      <td>Mondstille</td>\n",
       "      <td>Sehnsucht_Versus_Leben</td>\n",
       "    </tr>\n",
       "    <tr>\n",
       "      <td>15</td>\n",
       "      <td>Mondstille</td>\n",
       "      <td>Tr%C3%A4nen</td>\n",
       "    </tr>\n",
       "    <tr>\n",
       "      <td>16</td>\n",
       "      <td>Mondstille</td>\n",
       "      <td>Tr%C3%A4umers_Flucht</td>\n",
       "    </tr>\n",
       "    <tr>\n",
       "      <td>17</td>\n",
       "      <td>Mondstille</td>\n",
       "      <td>Und_Wenn_Der_Regen_F%C3%A4llt</td>\n",
       "    </tr>\n",
       "    <tr>\n",
       "      <td>18</td>\n",
       "      <td>Mondstille</td>\n",
       "      <td>Zeitenwandrer</td>\n",
       "    </tr>\n",
       "  </tbody>\n",
       "</table>\n",
       "</div>"
      ],
      "text/plain": [
       "        Artist                          Title\n",
       "0   Mondstille         Dem_Tod_Zum_Gru%C3%9Fe\n",
       "1   Mondstille                Der_Stille_Mond\n",
       "2   Mondstille                  Die_Seele_Fre\n",
       "3   Mondstille                    Erwachen...\n",
       "4   Mondstille                       Flammend\n",
       "5   Mondstille                Ich_Bin_Der_Tod\n",
       "6   Mondstille       Ich_Hab_Getr%C3%A4umt...\n",
       "7   Mondstille                  Ich,_Der_Plan\n",
       "8   Mondstille                  Im_Trauerhain\n",
       "9   Mondstille                   In_Der_Ferne\n",
       "10  Mondstille               In_Mondes_Stille\n",
       "11  Mondstille               Mein_Inner_Sturm\n",
       "12  Mondstille             Mir_Tr%C3%A4umt%27\n",
       "13  Mondstille                     Seelenwund\n",
       "14  Mondstille         Sehnsucht_Versus_Leben\n",
       "15  Mondstille                    Tr%C3%A4nen\n",
       "16  Mondstille           Tr%C3%A4umers_Flucht\n",
       "17  Mondstille  Und_Wenn_Der_Regen_F%C3%A4llt\n",
       "18  Mondstille                  Zeitenwandrer"
      ]
     },
     "execution_count": 22,
     "metadata": {},
     "output_type": "execute_result"
    }
   ],
   "source": [
    "get_songs_by_artist(\"Mondstille\")"
   ]
  },
  {
   "cell_type": "code",
   "execution_count": 26,
   "metadata": {},
   "outputs": [
    {
     "name": "stdout",
     "output_type": "stream",
     "text": [
      "https://lyrics.fandom.com/wiki/PSY:Gangnam_Style/roman\n"
     ]
    },
    {
     "data": {
      "text/plain": [
       "\"Oppan Gangnam style\\nGangnam style\\n\\nNajeneun ttasaroun inganjeogin yeoja\\nKeopi hanjanui yeoyureul aneun pumgyeok inneun yeoja\\nBami omyeon simjangi tteugeowojineun yeoja\\nGeureon banjeon inneun yeoja\\n\\nNaneun sanai\\nNajeneun neomankeum ttasaroun geureon sanai\\nKeopi sikgido jeone wonsyat ttaerineun sanai\\nBami omyeon simjangi teojyeobeorineun sanai\\nGeureon sanai\\n\\nAreumdawo sarangseureowo\\nGeurae neo (Hey!) geurae baro neo (Hey!)\\n\\nAreumdawo sarangseureowo\\nGeurae neo (Hey!) geurae baro neo (Hey!)\\n\\nJigeumbuteo gal dekkaji gabolkka (kka kka kka k-k-k-k-kka)\\n\\nOppan Gangnam style\\n\\nGangnam style \\nO o o o\\nOppan Gangnam style\\n\\nGangnam style\\nO o o o\\nOppan Gangnam style\\n\\nEy sexy lady\\nO o o o\\nOppan Gangnam style\\n\\nEy sexy lady Meg \\nMeg Meg Meg Meg \\nEh eh eh eh eh eh\\n\\nJeongsukhae boijiman nol ttaen noneun yeoja\\nIttaeda sipeumyeon mukkeotdeon meori puneun yeoja\\nGaryeotjiman wenmanhan Min kang nochulboda yahan yeoja\\nGeureon gamgakjeogin yeoja\\n\\nNaneun sanai\\nJeomjanha boijiman nol ttaen noneun sanai\\nTtaega doemyeon wanjeon michyeobeorineun sanai\\nGeunyukboda sasangi ultungbultunghan sanai\\nGeureon sanai\\n\\nAreumdawo sarangseureowo\\nGeurae neo (Hey!) geurae baro neo (Hey!)\\n\\nAreumdawo sarangseureowo\\nGeurae neo (Hey!) geurae baro neo (Hey!)\\n\\nJigeumbuteo gal dekkaji gabolkka (kka kka kka k-k-k-k-kka)\\n\\nOppan Gangnam style\\n\\nGangnam style\\nO o o o\\nOppan Gangnam style\\n\\nGangnam style\\nO o o o\\nOppan Gangnam style\\n\\nEy sexy lady\\nO o o o\\nOppan Gangnam style\\n\\nEy sexy lady\\nO o o o\\nEh eh eh eh eh eh\\n\\nTtwineun nom geu wie naneun nom\\nBaby baby\\nNaneun mwol jom aneun nom\\n\\nTtwineun nom geu wie naneun nom\\nBaby baby\\nNaneun mwol jom aneun nom\\n\\nYou know what I'm saying\\n\\nOppan Gangnam style\\nEh eh eh eh eh eh\\n\\nEy sexy lady\\nO o o o\\nOppan Gangnam style\\n\\nEy sexy lady\\nO o o o\\nEh eh eh eh eh eh\\n\\nOppan Gangnam style\""
      ]
     },
     "execution_count": 26,
     "metadata": {},
     "output_type": "execute_result"
    }
   ],
   "source": [
    "get_lyrics_by_language(\"PSY\", \"Gangnam Style\", \"roman\")"
   ]
  }
 ],
 "metadata": {
  "kernelspec": {
   "display_name": "Python 3",
   "language": "python",
   "name": "python3"
  },
  "language_info": {
   "codemirror_mode": {
    "name": "ipython",
    "version": 3
   },
   "file_extension": ".py",
   "mimetype": "text/x-python",
   "name": "python",
   "nbconvert_exporter": "python",
   "pygments_lexer": "ipython3",
   "version": "3.7.7"
  }
 },
 "nbformat": 4,
 "nbformat_minor": 2
}
