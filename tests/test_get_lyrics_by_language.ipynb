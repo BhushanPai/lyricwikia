{
 "cells": [
  {
   "cell_type": "code",
   "execution_count": 3,
   "metadata": {},
   "outputs": [
    {
     "name": "stdout",
     "output_type": "stream",
     "text": [
      "Requirement already satisfied: pprint in /Library/Frameworks/Python.framework/Versions/3.7/lib/python3.7/site-packages (0.1)\n",
      "Could not build wheels for pprint, since package 'wheel' is not installed.\n",
      "Requirement already satisfied: beautifulsoup4 in /Library/Frameworks/Python.framework/Versions/3.7/lib/python3.7/site-packages (4.9.0)\n",
      "Requirement already satisfied: soupsieve>1.2 in /Library/Frameworks/Python.framework/Versions/3.7/lib/python3.7/site-packages (from beautifulsoup4) (2.0)\n",
      "Could not build wheels for beautifulsoup4, since package 'wheel' is not installed.\n",
      "Could not build wheels for soupsieve, since package 'wheel' is not installed.\n",
      "Requirement already up-to-date: pip in /Library/Frameworks/Python.framework/Versions/3.7/lib/python3.7/site-packages (20.1)\n",
      "Could not build wheels for pip, since package 'wheel' is not installed.\n",
      "Requirement already satisfied: requests in /Library/Frameworks/Python.framework/Versions/3.7/lib/python3.7/site-packages (2.23.0)\n",
      "Requirement already satisfied: chardet<4,>=3.0.2 in /Library/Frameworks/Python.framework/Versions/3.7/lib/python3.7/site-packages (from requests) (3.0.4)\n",
      "Requirement already satisfied: urllib3!=1.25.0,!=1.25.1,<1.26,>=1.21.1 in /Library/Frameworks/Python.framework/Versions/3.7/lib/python3.7/site-packages (from requests) (1.25.9)\n",
      "Requirement already satisfied: certifi>=2017.4.17 in /Library/Frameworks/Python.framework/Versions/3.7/lib/python3.7/site-packages (from requests) (2020.4.5.1)\n",
      "Requirement already satisfied: idna<3,>=2.5 in /Library/Frameworks/Python.framework/Versions/3.7/lib/python3.7/site-packages (from requests) (2.9)\n",
      "Could not build wheels for requests, since package 'wheel' is not installed.\n",
      "Could not build wheels for chardet, since package 'wheel' is not installed.\n",
      "Could not build wheels for urllib3, since package 'wheel' is not installed.\n",
      "Could not build wheels for certifi, since package 'wheel' is not installed.\n",
      "Could not build wheels for idna, since package 'wheel' is not installed.\n",
      "https://lyrics.fandom.com/wiki/PSY:Gangnam_Style/roman\n"
     ]
    }
   ],
   "source": [
    "import sys\n",
    "sys.path.insert(0,'../lyricwikia')\n",
    "from new_lyricwikia import *\n",
    "from pprint import pprint"
   ]
  },
  {
   "cell_type": "code",
   "execution_count": 10,
   "metadata": {},
   "outputs": [],
   "source": [
    "def test_integration():\n",
    "    songs = get_lyrics_by_language(\"PSY\", \"Gangnam Style\", \"roman\")\n",
    "    assert 'Gangnam' in songs"
   ]
  },
  {
   "cell_type": "code",
   "execution_count": 17,
   "metadata": {},
   "outputs": [],
   "source": [
    "def test_integration_2():\n",
    "    songs = get_lyrics_for_all_languages(\"PSY\", \"Gangnam Style\")\n",
    "    assert 'Gangnam' in songs['English']"
   ]
  },
  {
   "cell_type": "code",
   "execution_count": null,
   "metadata": {},
   "outputs": [],
   "source": []
  }
 ],
 "metadata": {
  "kernelspec": {
   "display_name": "Python 3",
   "language": "python",
   "name": "python3"
  },
  "language_info": {
   "codemirror_mode": {
    "name": "ipython",
    "version": 3
   },
   "file_extension": ".py",
   "mimetype": "text/x-python",
   "name": "python",
   "nbconvert_exporter": "python",
   "pygments_lexer": "ipython3",
   "version": "3.7.4"
  }
 },
 "nbformat": 4,
 "nbformat_minor": 2
}
